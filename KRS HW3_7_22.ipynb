{
 "cells": [
  {
   "cell_type": "code",
   "execution_count": 48,
   "source": [
    "# Kevin R. Salger\r\n",
    "# 9/26/2021\r\n",
    "# IS 670 Business Intelligence\r\n",
    "# Homework 3, Ch7, #22\r\n",
    "#####################################\r\n",
    "\r\n",
    "#        1         2         3         4         5         6         7\r\n",
    "#23456789012345678901234567890123456789012345678901234567890123456789012\r\n",
    "# Perform the following tasks with pandas Series:\r\n",
    "# a) Create a Series from the list [7, 11, 13, 17]\r\n",
    "# b) Create a Series with five elements that are all 100.0\r\n",
    "# c) Create a Series with 20 elements that are all random numbers in the\r\n",
    "#    range 0 to 100.  Use method describe to produce the Series' basic \r\n",
    "#    statistics.\r\n",
    "# d) Create a Series called temperatures of the floating-point values \r\n",
    "#    98.6, 98.9, 100.2, and 97.9.  Using the index keyword argument, \r\n",
    "#    specify the custom indices 'Julie', 'Charlie', 'Sam', and 'Andrea'.\r\n",
    "# e) Form a dictionary from the names and values in Part d), then use it\r\n",
    "#    to initialize a Series.\r\n",
    "\r\n",
    "import pandas as pd\r\n",
    "\r\n",
    "# a) Create a Series from the list [7, 11, 13, 17]\r\n",
    "serier = pd.Series([7, 11, 13, 17])\r\n",
    "serier"
   ],
   "outputs": [
    {
     "output_type": "execute_result",
     "data": {
      "text/plain": [
       "0     7\n",
       "1    11\n",
       "2    13\n",
       "3    17\n",
       "dtype: int64"
      ]
     },
     "metadata": {},
     "execution_count": 48
    }
   ],
   "metadata": {}
  },
  {
   "cell_type": "code",
   "execution_count": 49,
   "source": [
    "# b) Create a Series with five elements that are all 100.0\r\n",
    "serie_hundra = pd.Series(100.0, range(5))\r\n",
    "serie_hundra"
   ],
   "outputs": [
    {
     "output_type": "execute_result",
     "data": {
      "text/plain": [
       "0    100.0\n",
       "1    100.0\n",
       "2    100.0\n",
       "3    100.0\n",
       "4    100.0\n",
       "dtype: float64"
      ]
     },
     "metadata": {},
     "execution_count": 49
    }
   ],
   "metadata": {}
  },
  {
   "cell_type": "code",
   "execution_count": 50,
   "source": [
    "# c) Create a Series with 20 elements that are all random numbers in the\r\n",
    "#    range 0 to 100.  Use method describe to produce the Series' basic \r\n",
    "#    statistics.\r\n",
    "import numpy as np\r\n",
    "serien_okand = pd.Series(np.random.randint(0, 100, 20))\r\n",
    "# serian_okand\r\n",
    "serien_okand.describe()"
   ],
   "outputs": [
    {
     "output_type": "execute_result",
     "data": {
      "text/plain": [
       "count    20.000000\n",
       "mean     55.800000\n",
       "std      26.434826\n",
       "min       6.000000\n",
       "25%      42.250000\n",
       "50%      60.000000\n",
       "75%      76.000000\n",
       "max      96.000000\n",
       "dtype: float64"
      ]
     },
     "metadata": {},
     "execution_count": 50
    }
   ],
   "metadata": {}
  },
  {
   "cell_type": "code",
   "execution_count": 51,
   "source": [
    "# d) Create a Series called temperatures of the floating-point values \r\n",
    "#    98.6, 98.9, 100.2, and 97.9.  Using the index keyword argument, \r\n",
    "#    specify the custom indices 'Julie', 'Charlie', 'Sam', and 'Andrea'.\r\n",
    "seriegrader = pd.Series([98.6, 98.9, 100.2, 97.9], index=['Julie', 'Charlie', 'Sam', 'Andrea'])\r\n",
    "seriegrader"
   ],
   "outputs": [
    {
     "output_type": "execute_result",
     "data": {
      "text/plain": [
       "Julie       98.6\n",
       "Charlie     98.9\n",
       "Sam        100.2\n",
       "Andrea      97.9\n",
       "dtype: float64"
      ]
     },
     "metadata": {},
     "execution_count": 51
    }
   ],
   "metadata": {}
  },
  {
   "cell_type": "code",
   "execution_count": 52,
   "source": [
    "# e) Form a dictionary from the names and values in Part d), \r\n",
    "\r\n",
    "ordbok = dict.fromkeys(seriegrader.index)\r\n",
    "for entry in ordbok.keys():\r\n",
    "    ordbok[entry] = seriegrader[entry]\r\n",
    "print('The dictionary ordbok: ')\r\n",
    "ordbok\r\n"
   ],
   "outputs": [
    {
     "output_type": "stream",
     "name": "stdout",
     "text": [
      "The dictionary ordbok: \n"
     ]
    },
    {
     "output_type": "execute_result",
     "data": {
      "text/plain": [
       "{'Julie': 98.6, 'Charlie': 98.9, 'Sam': 100.2, 'Andrea': 97.9}"
      ]
     },
     "metadata": {},
     "execution_count": 52
    }
   ],
   "metadata": {}
  },
  {
   "cell_type": "code",
   "execution_count": 53,
   "source": [
    "# then use it to initialize a Series.\r\n",
    "print('Now the series ny_serie:')\r\n",
    "ny_serie = pd.Series(ordbok)\r\n",
    "ny_serie"
   ],
   "outputs": [
    {
     "output_type": "stream",
     "name": "stdout",
     "text": [
      "Now the series ny_serie:\n"
     ]
    },
    {
     "output_type": "execute_result",
     "data": {
      "text/plain": [
       "Julie       98.6\n",
       "Charlie     98.9\n",
       "Sam        100.2\n",
       "Andrea      97.9\n",
       "dtype: float64"
      ]
     },
     "metadata": {},
     "execution_count": 53
    }
   ],
   "metadata": {}
  },
  {
   "cell_type": "code",
   "execution_count": null,
   "source": [],
   "outputs": [],
   "metadata": {}
  }
 ],
 "metadata": {
  "orig_nbformat": 4,
  "language_info": {
   "name": "python",
   "version": "3.9.5",
   "mimetype": "text/x-python",
   "codemirror_mode": {
    "name": "ipython",
    "version": 3
   },
   "pygments_lexer": "ipython3",
   "nbconvert_exporter": "python",
   "file_extension": ".py"
  },
  "kernelspec": {
   "name": "python3",
   "display_name": "Python 3.9.5 64-bit"
  },
  "interpreter": {
   "hash": "63fd5069d213b44bf678585dea6b12cceca9941eaf7f819626cde1f2670de90d"
  }
 },
 "nbformat": 4,
 "nbformat_minor": 2
}